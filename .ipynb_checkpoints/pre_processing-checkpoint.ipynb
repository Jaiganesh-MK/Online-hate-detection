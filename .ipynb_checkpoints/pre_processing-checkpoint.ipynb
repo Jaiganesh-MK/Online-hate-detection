{
 "cells": [
  {
   "cell_type": "code",
   "execution_count": 1,
   "metadata": {},
   "outputs": [],
   "source": [
    "import pandas as pd \n",
    "import numpy as np \n",
    "import nltk\n",
    "import re\n",
    "from nltk.stem import WordNetLemmatizer \n",
    "import seaborn as sns\n",
    "from nltk.corpus import stopwords\n",
    "from sklearn.feature_extraction.text import CountVectorizer\n",
    "from sklearn.feature_extraction.text import TfidfTransformer\n",
    "from sklearn.model_selection import train_test_split\n",
    "from sklearn.naive_bayes import MultinomialNB"
   ]
  },
  {
   "cell_type": "code",
   "execution_count": 2,
   "metadata": {},
   "outputs": [
    {
     "name": "stdout",
     "output_type": "stream",
     "text": [
      "<class 'pandas.core.frame.DataFrame'>\n",
      "Int64Index: 24783 entries, 0 to 25296\n",
      "Data columns (total 6 columns):\n",
      " #   Column              Non-Null Count  Dtype \n",
      "---  ------              --------------  ----- \n",
      " 0   count               24783 non-null  int64 \n",
      " 1   hate_speech         24783 non-null  int64 \n",
      " 2   offensive_language  24783 non-null  int64 \n",
      " 3   neither             24783 non-null  int64 \n",
      " 4   class               24783 non-null  object\n",
      " 5   tweet               24783 non-null  object\n",
      "dtypes: int64(4), object(2)\n",
      "memory usage: 1.3+ MB\n"
     ]
    }
   ],
   "source": [
    "df = pd.read_pickle(\"labeled_data.p\")\n",
    "df.info()"
   ]
  },
  {
   "cell_type": "code",
   "execution_count": 3,
   "metadata": {},
   "outputs": [],
   "source": [
    "q = []\n",
    "for i in range(0,24783):\n",
    "    if df.index[i]!=i:\n",
    "        q.append(i)   \n",
    "index = []\n",
    "for j in range(0,24783):\n",
    "    index.append(j)\n",
    "df['index']=index\n",
    "df = df.set_index(df['index'])\n",
    "df = df.drop(['index'],axis=1)\n",
    "df = df.drop(['count'],axis=1)\n",
    "df = df.drop(['hate_speech'],axis=1)\n",
    "df = df.drop(['offensive_language'],axis=1)\n",
    "df = df.drop(['neither'],axis=1)"
   ]
  },
  {
   "cell_type": "code",
   "execution_count": 4,
   "metadata": {},
   "outputs": [
    {
     "data": {
      "text/html": [
       "<div>\n",
       "<style scoped>\n",
       "    .dataframe tbody tr th:only-of-type {\n",
       "        vertical-align: middle;\n",
       "    }\n",
       "\n",
       "    .dataframe tbody tr th {\n",
       "        vertical-align: top;\n",
       "    }\n",
       "\n",
       "    .dataframe thead th {\n",
       "        text-align: right;\n",
       "    }\n",
       "</style>\n",
       "<table border=\"1\" class=\"dataframe\">\n",
       "  <thead>\n",
       "    <tr style=\"text-align: right;\">\n",
       "      <th></th>\n",
       "      <th>class</th>\n",
       "      <th>tweet</th>\n",
       "    </tr>\n",
       "    <tr>\n",
       "      <th>index</th>\n",
       "      <th></th>\n",
       "      <th></th>\n",
       "    </tr>\n",
       "  </thead>\n",
       "  <tbody>\n",
       "    <tr>\n",
       "      <th>0</th>\n",
       "      <td>2</td>\n",
       "      <td>!!! RT @mayasolovely: As a woman you shouldn't...</td>\n",
       "    </tr>\n",
       "    <tr>\n",
       "      <th>1</th>\n",
       "      <td>1</td>\n",
       "      <td>!!!!! RT @mleew17: boy dats cold...tyga dwn ba...</td>\n",
       "    </tr>\n",
       "    <tr>\n",
       "      <th>2</th>\n",
       "      <td>1</td>\n",
       "      <td>!!!!!!! RT @UrKindOfBrand Dawg!!!! RT @80sbaby...</td>\n",
       "    </tr>\n",
       "    <tr>\n",
       "      <th>3</th>\n",
       "      <td>1</td>\n",
       "      <td>!!!!!!!!! RT @C_G_Anderson: @viva_based she lo...</td>\n",
       "    </tr>\n",
       "    <tr>\n",
       "      <th>4</th>\n",
       "      <td>1</td>\n",
       "      <td>!!!!!!!!!!!!! RT @ShenikaRoberts: The shit you...</td>\n",
       "    </tr>\n",
       "    <tr>\n",
       "      <th>...</th>\n",
       "      <td>...</td>\n",
       "      <td>...</td>\n",
       "    </tr>\n",
       "    <tr>\n",
       "      <th>24778</th>\n",
       "      <td>1</td>\n",
       "      <td>you's a muthaf***in lie &amp;#8220;@LifeAsKing: @2...</td>\n",
       "    </tr>\n",
       "    <tr>\n",
       "      <th>24779</th>\n",
       "      <td>2</td>\n",
       "      <td>you've gone and broke the wrong heart baby, an...</td>\n",
       "    </tr>\n",
       "    <tr>\n",
       "      <th>24780</th>\n",
       "      <td>1</td>\n",
       "      <td>young buck wanna eat!!.. dat nigguh like I ain...</td>\n",
       "    </tr>\n",
       "    <tr>\n",
       "      <th>24781</th>\n",
       "      <td>1</td>\n",
       "      <td>youu got wild bitches tellin you lies</td>\n",
       "    </tr>\n",
       "    <tr>\n",
       "      <th>24782</th>\n",
       "      <td>2</td>\n",
       "      <td>~~Ruffled | Ntac Eileen Dahlia - Beautiful col...</td>\n",
       "    </tr>\n",
       "  </tbody>\n",
       "</table>\n",
       "<p>24783 rows × 2 columns</p>\n",
       "</div>"
      ],
      "text/plain": [
       "      class                                              tweet\n",
       "index                                                         \n",
       "0         2  !!! RT @mayasolovely: As a woman you shouldn't...\n",
       "1         1  !!!!! RT @mleew17: boy dats cold...tyga dwn ba...\n",
       "2         1  !!!!!!! RT @UrKindOfBrand Dawg!!!! RT @80sbaby...\n",
       "3         1  !!!!!!!!! RT @C_G_Anderson: @viva_based she lo...\n",
       "4         1  !!!!!!!!!!!!! RT @ShenikaRoberts: The shit you...\n",
       "...     ...                                                ...\n",
       "24778     1  you's a muthaf***in lie &#8220;@LifeAsKing: @2...\n",
       "24779     2  you've gone and broke the wrong heart baby, an...\n",
       "24780     1  young buck wanna eat!!.. dat nigguh like I ain...\n",
       "24781     1              youu got wild bitches tellin you lies\n",
       "24782     2  ~~Ruffled | Ntac Eileen Dahlia - Beautiful col...\n",
       "\n",
       "[24783 rows x 2 columns]"
      ]
     },
     "execution_count": 4,
     "metadata": {},
     "output_type": "execute_result"
    }
   ],
   "source": [
    "df"
   ]
  },
  {
   "cell_type": "code",
   "execution_count": 5,
   "metadata": {},
   "outputs": [],
   "source": [
    "key=['neither','offensive','hate']\n",
    "g = []\n",
    "for h in range(0,3):\n",
    "    g.append([key[h],df['tweet'][df['class']==h].count()])\n",
    "category_count=pd.DataFrame(g)"
   ]
  },
  {
   "cell_type": "code",
   "execution_count": 6,
   "metadata": {},
   "outputs": [
    {
     "data": {
      "text/plain": [
       "<matplotlib.axes._subplots.AxesSubplot at 0x7fc6d8b3bd10>"
      ]
     },
     "execution_count": 6,
     "metadata": {},
     "output_type": "execute_result"
    },
    {
     "data": {
      "image/png": "[encoded data removed]",
      "text/plain": [
       "<Figure size 432x288 with 1 Axes>"
      ]
     },
     "metadata": {
      "needs_background": "light"
     },
     "output_type": "display_data"
    }
   ],
   "source": [
    "sns.barplot(x=0,y=1,data=category_count)"
   ]
  },
  {
   "cell_type": "code",
   "execution_count": 7,
   "metadata": {},
   "outputs": [],
   "source": [
    "def remove_excalmation_at_beginning(str):\n",
    "    exclamation = '!!*'\n",
    "    e=re.match(exclamation,str)\n",
    "    if(e):\n",
    "        return re.split(exclamation,str)[1]\n",
    "    else:\n",
    "        return str\n",
    "def rt_remove(str):\n",
    "    rt = '^ RT '\n",
    "    e=re.match(rt,str)\n",
    "    if(e):\n",
    "        return re.split(rt,str)[1]\n",
    "    else:\n",
    "        return str\n",
    "def lemmatize(str):\n",
    "    lemmatizer=WordNetLemmatizer()\n",
    "    return lemmatizer.lemmatize(str)\n",
    "def remove_nametag(str):\n",
    "    name_tag = '@[\\w\\-(:)]+'\n",
    "    return re.sub(name_tag,'',str)\n",
    "def remove_space_at_beginning(str):\n",
    "    return str.lstrip()\n",
    "def remove_url(str):\n",
    "    url = 'http[s]?://(?:[a-zA-Z]|[0-9]|[$-_@.&+]|''[!*\\(\\),]|(?:%[0-9a-fA-F][0-9a-fA-F]))+'\n",
    "    return re.sub(url,'',str)\n",
    "def tokenizer(str): \n",
    "    return str.split()\n",
    "def word_lemmatize(str):\n",
    "    lemmatizer = WordNetLemmatizer()\n",
    "    return lemmatizer.lemmatize(str)\n",
    "def lower_case(str):\n",
    "    return str.lower()\n",
    "def hashtag_remover(str):\n",
    "    return str.split('#')[1]\n",
    "def special_char_remove(str):\n",
    "    return re.sub('&#[(0-9)(a-z)]+','',str)"
   ]
  },
  {
   "cell_type": "code",
   "execution_count": 8,
   "metadata": {},
   "outputs": [],
   "source": [
    "for i in range(0,df['tweet'].count()):\n",
    "    df['tweet'].loc[i] = remove_excalmation_at_beginning(df['tweet'].loc[i])\n",
    "    df['tweet'].loc[i] = rt_remove(df['tweet'].loc[i])\n",
    "    df['tweet'].loc[i] = remove_space_at_beginning(df['tweet'].loc[i])\n",
    "    df['tweet'].loc[i] = df['tweet'].loc[i].lstrip()\n",
    "    df['tweet'].loc[i] = remove_nametag(df['tweet'].loc[i])\n",
    "    df['tweet'].loc[i] = remove_url(df['tweet'].loc[i])\n",
    "    df['tweet'].loc[i] = tokenizer(df['tweet'].loc[i])    "
   ]
  },
  {
   "cell_type": "code",
   "execution_count": 9,
   "metadata": {},
   "outputs": [],
   "source": [
    "for i in range(0,df['tweet'].count()):\n",
    "    for j in range(0,len(df['tweet'].loc[i])):\n",
    "        df['tweet'].loc[i][j] = lower_case(df['tweet'].loc[i][j])\n",
    "        df['tweet'].loc[i][j] = word_lemmatize(df['tweet'].loc[i][j]) \n",
    "        df['tweet'].loc[i][j] = special_char_remove(df['tweet'].loc[i][j]) \n",
    "        if re.match('#[(a-z)(0-9)]+',df['tweet'].loc[i][j]):\n",
    "            df['tweet'].loc[i][j] = hashtag_remover(df['tweet'].loc[i][j])    \n",
    "    while( '\"' in df['tweet'].loc[i]):\n",
    "        df['tweet'].loc[i].remove('\"')  "
   ]
  },
  {
   "cell_type": "code",
   "execution_count": 10,
   "metadata": {},
   "outputs": [],
   "source": [
    "stop_words = set(stopwords.words('english'))\n",
    "for i in range(0,df['tweet'].count()):\n",
    "    for w in df['tweet'].loc[i]:\n",
    "        if w in stop_words:\n",
    "            df['tweet'].loc[i].remove(w)"
   ]
  },
  {
   "cell_type": "code",
   "execution_count": 11,
   "metadata": {},
   "outputs": [
    {
     "data": {
      "text/plain": [
       "index\n",
       "150    [wish, wa, bitch, like, brother, keezy, ;\", oo...\n",
       "151    [dressed, cat, halloween, you, are, basic.\", ....\n",
       "152    [pornhub, get, gaming, stream, feature, these,...\n",
       "153    [stop, scared, choke, during, sex, u, bitch, n...\n",
       "154    [ha, well, iguess, make, hoe, loyal, bro\", the...\n",
       "155    [oh, man.., \"its, 5, am,, off, molly,, ho, the...\n",
       "156       [not, man, you, refer, every, girl, a, bitch\"]\n",
       "157    [lmfao, cat, started, beating, shit, of, me\", ...\n",
       "158    [peel, peel, bring, back, rewind, back, i'm, t...\n",
       "159    [io, io, alu, record, ho, vine, sai, pe, hahah...\n",
       "160    [naw, old, tape., new, cover, ., my, upcoming,...\n",
       "161        [ol, dirty, foot, bitches..\", wa, funny, me.]\n",
       "162    [that's, i, get, yellow, flag, being, amazing,...\n",
       "163                [got, time, bitch, be, actin, iffy.\"]\n",
       "164    [ucfpinkparty, come, stay, alive, knight, nati...\n",
       "165    [hoe, ain't, loyal, ;, they, ain't, smfh, &amp...\n",
       "166    [bruh,, stud, keep, thinking, i'm, soft, hell....\n",
       "167    [dry, pussy, bitch, always, blame, on, condom;...\n",
       "168                           [shut, yo, bitch, up!, ;;]\n",
       "169    [gucci, mane, jail, dropping, mixtapes, every,...\n",
       "170       [love, hoe, then, money, wats, wrong, niggas\"]\n",
       "171    [loyal, bitch, the, burbs, without, daddy, iss...\n",
       "172            [easy, cum,, easy, hoe\", that's, fact, !]\n",
       "173    [charlie, sheen, too, real, major, fucking, re...\n",
       "174             [wish, had, bae, ;\", got, the, hoe, tho]\n",
       "175               [fuck, twerking, bitch, you, cook, ?\"]\n",
       "176                                        [bitch, wtf\"]\n",
       "177    [;, shut, zoe\", fight, pussy;, zoe?, i'm, good...\n",
       "178              [lmao, fucking, snake, bitches\", @, em]\n",
       "179    [big, booty, hoe, everywhere, sheesh, ;\", damn...\n",
       "180    [stay, tuned, for, update, the, report, 1b, be...\n",
       "181    [;, \"i, play, soccer,, cheat, girls,, wear, kh...\n",
       "182    [oregon, choke, every, year, get, the, field, ...\n",
       "183    [def, cowboy, lol, rt, terrell, owen, wa, best...\n",
       "184    [lmfaoooo, hate, black, people, is, there's, b...\n",
       "185                 [could, u, this, me, bitch\", potent]\n",
       "186    [pissed, lad, past, out., would, lick, dirty, ...\n",
       "187               [love, frat, boy, w/, soft, long, sol]\n",
       "188                       [sexy, lad, hot, sol, arches.]\n",
       "189    [nah, fam, gotta, cheat, the, hoes\", depends, ...\n",
       "190                             [;;;;;\", got, hick, lol]\n",
       "191    [new, twitter, confusing, shit, of, me.\", go, ...\n",
       "192    [toto, mean, or, vagina?\"i, think, pussy, caus...\n",
       "193    [what, he, actually, doe, choose, ugly, bitch,...\n",
       "194    [bitch, kill, vibe, ya, tried., ;;;\", dis, i, ...\n",
       "195    [i'm, tired, bitch, saying, look, mean.., ;\", ...\n",
       "196    [10, bird, grandkids, may, never, see,, thanks...\n",
       "197                          [\"stay, beautiful, bitch\"\"]\n",
       "198    [wutkinda, r, purple., ceeeleee\"man, gurl, wa,...\n",
       "199    [money, getting, taller, bitch, getting, blurry\"]\n",
       "200    [ain't, never, seen, bitch, obsessed, they, ni...\n",
       "Name: tweet, dtype: object"
      ]
     },
     "execution_count": 11,
     "metadata": {},
     "output_type": "execute_result"
    }
   ],
   "source": [
    "df['tweet'].loc[150:200]"
   ]
  },
  {
   "cell_type": "code",
   "execution_count": 12,
   "metadata": {},
   "outputs": [],
   "source": [
    "for i in range(0,df['tweet'].count()):\n",
    "    t = ''\n",
    "    for j in range(0,len(df['tweet'].loc[i])):\n",
    "        t = t + df['tweet'].loc[i][j] + ' '\n",
    "    df['tweet'].loc[i] = t "
   ]
  },
  {
   "cell_type": "code",
   "execution_count": 13,
   "metadata": {},
   "outputs": [],
   "source": [
    "df.to_csv('labeled_data.csv',index = True)"
   ]
  }
 ],
 "metadata": {
  "file_extension": ".py",
  "kernelspec": {
   "display_name": "Python 3.7.5 64-bit",
   "language": "python",
   "name": "python37564bit046e86cb16a143c2b3c9c66bfe70d682"
  },
  "language_info": {
   "codemirror_mode": {
    "name": "ipython",
    "version": 3
   },
   "file_extension": ".py",
   "mimetype": "text/x-python",
   "name": "python",
   "nbconvert_exporter": "python",
   "pygments_lexer": "ipython3",
   "version": "3.7.5"
  },
  "mimetype": "text/x-python",
  "name": "python",
  "npconvert_exporter": "python",
  "pygments_lexer": "ipython3",
  "version": 3
 },
 "nbformat": 4,
 "nbformat_minor": 2
}

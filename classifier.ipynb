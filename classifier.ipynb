{
 "cells": [
  {
   "cell_type": "code",
   "execution_count": 1,
   "metadata": {},
   "outputs": [],
   "source": [
    "import pandas as pd \n",
    "from sklearn.feature_extraction.text import CountVectorizer\n",
    "from sklearn.feature_extraction.text import TfidfTransformer\n",
    "from sklearn.model_selection import train_test_split\n",
    "from sklearn.naive_bayes import MultinomialNB"
   ]
  },
  {
   "cell_type": "code",
   "execution_count": 2,
   "metadata": {},
   "outputs": [],
   "source": [
    "df = pd.read_csv(\"labeled_data.csv\")"
   ]
  },
  {
   "cell_type": "code",
   "execution_count": 3,
   "metadata": {},
   "outputs": [
    {
     "output_type": "execute_result",
     "data": {
      "text/plain": "       index  class                                              tweet\n0          0      2  woman shouldn't complain cleaning your house. ...\n1          1      1  boy dat cold...tyga dwn bad cuffin dat hoe the...\n2          2      1                                              dawg \n3          3      1                                  look like tranny \n4          4      1  shit hear me might true might faker the bitch ...\n...      ...    ...                                                ...\n24778  24778      1  you's muthaf***in lie ; right! tl trash ;. now...\n24779  24779      2  gone broke wrong heart baby, drove redneck crazy \n24780  24780      1  young buck wanna eat!!.. dat nigguh like aint ...\n24781  24781      1                    youu got wild bitch tellin lie \n24782  24782      2  ~~ruffled | ntac eileen dahlia - beautiful col...\n\n[24783 rows x 3 columns]",
      "text/html": "<div>\n<style scoped>\n    .dataframe tbody tr th:only-of-type {\n        vertical-align: middle;\n    }\n\n    .dataframe tbody tr th {\n        vertical-align: top;\n    }\n\n    .dataframe thead th {\n        text-align: right;\n    }\n</style>\n<table border=\"1\" class=\"dataframe\">\n  <thead>\n    <tr style=\"text-align: right;\">\n      <th></th>\n      <th>index</th>\n      <th>class</th>\n      <th>tweet</th>\n    </tr>\n  </thead>\n  <tbody>\n    <tr>\n      <th>0</th>\n      <td>0</td>\n      <td>2</td>\n      <td>woman shouldn't complain cleaning your house. ...</td>\n    </tr>\n    <tr>\n      <th>1</th>\n      <td>1</td>\n      <td>1</td>\n      <td>boy dat cold...tyga dwn bad cuffin dat hoe the...</td>\n    </tr>\n    <tr>\n      <th>2</th>\n      <td>2</td>\n      <td>1</td>\n      <td>dawg</td>\n    </tr>\n    <tr>\n      <th>3</th>\n      <td>3</td>\n      <td>1</td>\n      <td>look like tranny</td>\n    </tr>\n    <tr>\n      <th>4</th>\n      <td>4</td>\n      <td>1</td>\n      <td>shit hear me might true might faker the bitch ...</td>\n    </tr>\n    <tr>\n      <th>...</th>\n      <td>...</td>\n      <td>...</td>\n      <td>...</td>\n    </tr>\n    <tr>\n      <th>24778</th>\n      <td>24778</td>\n      <td>1</td>\n      <td>you's muthaf***in lie ; right! tl trash ;. now...</td>\n    </tr>\n    <tr>\n      <th>24779</th>\n      <td>24779</td>\n      <td>2</td>\n      <td>gone broke wrong heart baby, drove redneck crazy</td>\n    </tr>\n    <tr>\n      <th>24780</th>\n      <td>24780</td>\n      <td>1</td>\n      <td>young buck wanna eat!!.. dat nigguh like aint ...</td>\n    </tr>\n    <tr>\n      <th>24781</th>\n      <td>24781</td>\n      <td>1</td>\n      <td>youu got wild bitch tellin lie</td>\n    </tr>\n    <tr>\n      <th>24782</th>\n      <td>24782</td>\n      <td>2</td>\n      <td>~~ruffled | ntac eileen dahlia - beautiful col...</td>\n    </tr>\n  </tbody>\n</table>\n<p>24783 rows × 3 columns</p>\n</div>"
     },
     "metadata": {},
     "execution_count": 3
    }
   ],
   "source": [
    "df"
   ]
  },
  {
   "cell_type": "code",
   "execution_count": 4,
   "metadata": {},
   "outputs": [],
   "source": [
    "vectorizer = CountVectorizer()\n",
    "x = vectorizer.fit_transform(df['tweet'])\n",
    "x = x.toarray()"
   ]
  },
  {
   "cell_type": "code",
   "execution_count": 5,
   "metadata": {},
   "outputs": [],
   "source": [
    "y = df['class']"
   ]
  },
  {
   "cell_type": "code",
   "execution_count": 6,
   "metadata": {},
   "outputs": [],
   "source": [
    "X_train, X_test, y_train, y_test = train_test_split(x, y, test_size=0.3)\n",
    "clf = MultinomialNB()"
   ]
  },
  {
   "cell_type": "code",
   "execution_count": 7,
   "metadata": {},
   "outputs": [
    {
     "output_type": "execute_result",
     "data": {
      "text/plain": "MultinomialNB(alpha=1.0, class_prior=None, fit_prior=True)"
     },
     "metadata": {},
     "execution_count": 7
    }
   ],
   "source": [
    "clf.fit(X_train,y_train)"
   ]
  },
  {
   "cell_type": "code",
   "execution_count": 8,
   "metadata": {},
   "outputs": [
    {
     "output_type": "execute_result",
     "data": {
      "text/plain": "87.03"
     },
     "metadata": {},
     "execution_count": 8
    }
   ],
   "source": [
    "round(clf.score(X_test,y_test)*100,2)"
   ]
  },
  {
   "cell_type": "code",
   "execution_count": null,
   "metadata": {},
   "outputs": [],
   "source": []
  }
 ],
 "metadata": {
  "file_extension": ".py",
  "kernelspec": {
   "display_name": "PyCharm (Logistic-regression-from-scratch)",
   "language": "python",
   "name": "pycharm-fceefb3c"
  },
  "language_info": {
   "codemirror_mode": {
    "name": "ipython",
    "version": 3
   },
   "file_extension": ".py",
   "mimetype": "text/x-python",
   "name": "python",
   "nbconvert_exporter": "python",
   "pygments_lexer": "ipython3",
   "version": "3.7.7-final"
  },
  "mimetype": "text/x-python",
  "name": "python",
  "npconvert_exporter": "python",
  "pygments_lexer": "ipython3",
  "version": 3
 },
 "nbformat": 4,
 "nbformat_minor": 2
}
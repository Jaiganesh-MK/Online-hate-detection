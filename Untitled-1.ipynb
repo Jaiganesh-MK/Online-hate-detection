{
 "nbformat": 4,
 "nbformat_minor": 2,
 "metadata": {
  "language_info": {
   "name": "python",
   "codemirror_mode": {
    "name": "ipython",
    "version": 3
   },
   "version": "3.7.5-final"
  },
  "orig_nbformat": 2,
  "file_extension": ".py",
  "mimetype": "text/x-python",
  "name": "python",
  "npconvert_exporter": "python",
  "pygments_lexer": "ipython3",
  "version": 3,
  "kernelspec": {
   "name": "python37564bit046e86cb16a143c2b3c9c66bfe70d682",
   "display_name": "Python 3.7.5 64-bit"
  }
 },
 "cells": [
  {
   "cell_type": "code",
   "execution_count": 1,
   "metadata": {},
   "outputs": [],
   "source": [
    "import pandas as pd \n",
    "import numpy as np \n",
    "import nltk\n",
    "import re\n",
    "from nltk.tokenize import sent_tokenize, word_tokenize"
   ]
  },
  {
   "cell_type": "code",
   "execution_count": 2,
   "metadata": {},
   "outputs": [
    {
     "output_type": "stream",
     "name": "stdout",
     "text": "<class 'pandas.core.frame.DataFrame'>\nInt64Index: 24783 entries, 0 to 25296\nData columns (total 6 columns):\n #   Column              Non-Null Count  Dtype \n---  ------              --------------  ----- \n 0   count               24783 non-null  int64 \n 1   hate_speech         24783 non-null  int64 \n 2   offensive_language  24783 non-null  int64 \n 3   neither             24783 non-null  int64 \n 4   class               24783 non-null  object\n 5   tweet               24783 non-null  object\ndtypes: int64(4), object(2)\nmemory usage: 1.3+ MB\n"
    }
   ],
   "source": [
    "data = pd.read_csv(\"labeled_data.csv\")\n",
    "df = pd.read_pickle(\"labeled_data.p\")\n",
    "df.info()"
   ]
  },
  {
   "cell_type": "code",
   "execution_count": 3,
   "metadata": {},
   "outputs": [],
   "source": [
    "q = []\n",
    "for i in range(0,24783):\n",
    "    if df.index[i]!=i:\n",
    "        q.append(i)   \n",
    "index = []\n",
    "for j in range(0,24783):\n",
    "    index.append(j)\n",
    "df['index']=index\n",
    "df = df.set_index(df['index'])\n",
    "df = df.drop(['index'],axis=1)"
   ]
  },
  {
   "cell_type": "code",
   "execution_count": 4,
   "metadata": {},
   "outputs": [],
   "source": [
    "df = df.drop(['count'],axis=1)\n",
    "df = df.drop(['hate_speech'],axis=1)\n",
    "df = df.drop(['offensive_language'],axis=1)\n",
    "df = df.drop(['neither'],axis=1)"
   ]
  },
  {
   "cell_type": "code",
   "execution_count": 5,
   "metadata": {},
   "outputs": [
    {
     "output_type": "execute_result",
     "data": {
      "text/plain": "      class                                              tweet\nindex                                                         \n0         2  !!! RT @mayasolovely: As a woman you shouldn't...\n1         1  !!!!! RT @mleew17: boy dats cold...tyga dwn ba...\n2         1  !!!!!!! RT @UrKindOfBrand Dawg!!!! RT @80sbaby...\n3         1  !!!!!!!!! RT @C_G_Anderson: @viva_based she lo...\n4         1  !!!!!!!!!!!!! RT @ShenikaRoberts: The shit you...\n...     ...                                                ...\n24778     1  you's a muthaf***in lie &#8220;@LifeAsKing: @2...\n24779     2  you've gone and broke the wrong heart baby, an...\n24780     1  young buck wanna eat!!.. dat nigguh like I ain...\n24781     1              youu got wild bitches tellin you lies\n24782     2  ~~Ruffled | Ntac Eileen Dahlia - Beautiful col...\n\n[24783 rows x 2 columns]",
      "text/html": "<div>\n<style scoped>\n    .dataframe tbody tr th:only-of-type {\n        vertical-align: middle;\n    }\n\n    .dataframe tbody tr th {\n        vertical-align: top;\n    }\n\n    .dataframe thead th {\n        text-align: right;\n    }\n</style>\n<table border=\"1\" class=\"dataframe\">\n  <thead>\n    <tr style=\"text-align: right;\">\n      <th></th>\n      <th>class</th>\n      <th>tweet</th>\n    </tr>\n    <tr>\n      <th>index</th>\n      <th></th>\n      <th></th>\n    </tr>\n  </thead>\n  <tbody>\n    <tr>\n      <th>0</th>\n      <td>2</td>\n      <td>!!! RT @mayasolovely: As a woman you shouldn't...</td>\n    </tr>\n    <tr>\n      <th>1</th>\n      <td>1</td>\n      <td>!!!!! RT @mleew17: boy dats cold...tyga dwn ba...</td>\n    </tr>\n    <tr>\n      <th>2</th>\n      <td>1</td>\n      <td>!!!!!!! RT @UrKindOfBrand Dawg!!!! RT @80sbaby...</td>\n    </tr>\n    <tr>\n      <th>3</th>\n      <td>1</td>\n      <td>!!!!!!!!! RT @C_G_Anderson: @viva_based she lo...</td>\n    </tr>\n    <tr>\n      <th>4</th>\n      <td>1</td>\n      <td>!!!!!!!!!!!!! RT @ShenikaRoberts: The shit you...</td>\n    </tr>\n    <tr>\n      <th>...</th>\n      <td>...</td>\n      <td>...</td>\n    </tr>\n    <tr>\n      <th>24778</th>\n      <td>1</td>\n      <td>you's a muthaf***in lie &amp;#8220;@LifeAsKing: @2...</td>\n    </tr>\n    <tr>\n      <th>24779</th>\n      <td>2</td>\n      <td>you've gone and broke the wrong heart baby, an...</td>\n    </tr>\n    <tr>\n      <th>24780</th>\n      <td>1</td>\n      <td>young buck wanna eat!!.. dat nigguh like I ain...</td>\n    </tr>\n    <tr>\n      <th>24781</th>\n      <td>1</td>\n      <td>youu got wild bitches tellin you lies</td>\n    </tr>\n    <tr>\n      <th>24782</th>\n      <td>2</td>\n      <td>~~Ruffled | Ntac Eileen Dahlia - Beautiful col...</td>\n    </tr>\n  </tbody>\n</table>\n<p>24783 rows × 2 columns</p>\n</div>"
     },
     "metadata": {},
     "execution_count": 5
    }
   ],
   "source": [
    "df"
   ]
  },
  {
   "cell_type": "code",
   "execution_count": 6,
   "metadata": {},
   "outputs": [],
   "source": [
    "def remove_excalmation(str):\n",
    "    exclamation = '^!!*'\n",
    "    e=re.match(exclamation,str)\n",
    "    if(e):\n",
    "        return re.split(exclamation,str)[1]\n",
    "    else:\n",
    "        return str\n",
    "def rt_remove(str):\n",
    "    rt = '^ RT '\n",
    "    e=re.match(rt,str)\n",
    "    if(e):\n",
    "        return re.split(rt,str)[1]\n",
    "    else:\n",
    "        return str"
   ]
  },
  {
   "cell_type": "code",
   "execution_count": 7,
   "metadata": {},
   "outputs": [],
   "source": [
    "for i in range(0,24782):\n",
    "    df['tweet'].loc[i]=remove_excalmation(df['tweet'].loc[i])\n",
    "    df['tweet'].loc[i]=rt_remove(df['tweet'].loc[i])"
   ]
  },
  {
   "cell_type": "code",
   "execution_count": 8,
   "metadata": {},
   "outputs": [
    {
     "output_type": "execute_result",
     "data": {
      "text/plain": "      class                                              tweet\nindex                                                         \n0         2  @mayasolovely: As a woman you shouldn't compla...\n1         1  @mleew17: boy dats cold...tyga dwn bad for cuf...\n2         1  @UrKindOfBrand Dawg!!!! RT @80sbaby4life: You ...\n3         1  @C_G_Anderson: @viva_based she look like a tranny\n4         1  @ShenikaRoberts: The shit you hear about me mi...",
      "text/html": "<div>\n<style scoped>\n    .dataframe tbody tr th:only-of-type {\n        vertical-align: middle;\n    }\n\n    .dataframe tbody tr th {\n        vertical-align: top;\n    }\n\n    .dataframe thead th {\n        text-align: right;\n    }\n</style>\n<table border=\"1\" class=\"dataframe\">\n  <thead>\n    <tr style=\"text-align: right;\">\n      <th></th>\n      <th>class</th>\n      <th>tweet</th>\n    </tr>\n    <tr>\n      <th>index</th>\n      <th></th>\n      <th></th>\n    </tr>\n  </thead>\n  <tbody>\n    <tr>\n      <th>0</th>\n      <td>2</td>\n      <td>@mayasolovely: As a woman you shouldn't compla...</td>\n    </tr>\n    <tr>\n      <th>1</th>\n      <td>1</td>\n      <td>@mleew17: boy dats cold...tyga dwn bad for cuf...</td>\n    </tr>\n    <tr>\n      <th>2</th>\n      <td>1</td>\n      <td>@UrKindOfBrand Dawg!!!! RT @80sbaby4life: You ...</td>\n    </tr>\n    <tr>\n      <th>3</th>\n      <td>1</td>\n      <td>@C_G_Anderson: @viva_based she look like a tranny</td>\n    </tr>\n    <tr>\n      <th>4</th>\n      <td>1</td>\n      <td>@ShenikaRoberts: The shit you hear about me mi...</td>\n    </tr>\n  </tbody>\n</table>\n</div>"
     },
     "metadata": {},
     "execution_count": 8
    }
   ],
   "source": [
    "df.head()"
   ]
  },
  {
   "cell_type": "code",
   "execution_count": 9,
   "metadata": {},
   "outputs": [],
   "source": [
    "for i in range(0,24783):\n",
    "    df['tweet'].loc[i]=df['tweet'].loc[i].split()"
   ]
  },
  {
   "cell_type": "code",
   "execution_count": 10,
   "metadata": {},
   "outputs": [
    {
     "output_type": "execute_result",
     "data": {
      "text/plain": "      class                                              tweet\nindex                                                         \n0         2  [@mayasolovely:, As, a, woman, you, shouldn't,...\n1         1  [@mleew17:, boy, dats, cold...tyga, dwn, bad, ...\n2         1  [@UrKindOfBrand, Dawg!!!!, RT, @80sbaby4life:,...\n3         1  [@C_G_Anderson:, @viva_based, she, look, like,...\n4         1  [@ShenikaRoberts:, The, shit, you, hear, about...\n...     ...                                                ...\n24778     1  [you's, a, muthaf***in, lie, &#8220;@LifeAsKin...\n24779     2  [you've, gone, and, broke, the, wrong, heart, ...\n24780     1  [young, buck, wanna, eat!!.., dat, nigguh, lik...\n24781     1      [youu, got, wild, bitches, tellin, you, lies]\n24782     2  [~~Ruffled, |, Ntac, Eileen, Dahlia, -, Beauti...\n\n[24783 rows x 2 columns]",
      "text/html": "<div>\n<style scoped>\n    .dataframe tbody tr th:only-of-type {\n        vertical-align: middle;\n    }\n\n    .dataframe tbody tr th {\n        vertical-align: top;\n    }\n\n    .dataframe thead th {\n        text-align: right;\n    }\n</style>\n<table border=\"1\" class=\"dataframe\">\n  <thead>\n    <tr style=\"text-align: right;\">\n      <th></th>\n      <th>class</th>\n      <th>tweet</th>\n    </tr>\n    <tr>\n      <th>index</th>\n      <th></th>\n      <th></th>\n    </tr>\n  </thead>\n  <tbody>\n    <tr>\n      <th>0</th>\n      <td>2</td>\n      <td>[@mayasolovely:, As, a, woman, you, shouldn't,...</td>\n    </tr>\n    <tr>\n      <th>1</th>\n      <td>1</td>\n      <td>[@mleew17:, boy, dats, cold...tyga, dwn, bad, ...</td>\n    </tr>\n    <tr>\n      <th>2</th>\n      <td>1</td>\n      <td>[@UrKindOfBrand, Dawg!!!!, RT, @80sbaby4life:,...</td>\n    </tr>\n    <tr>\n      <th>3</th>\n      <td>1</td>\n      <td>[@C_G_Anderson:, @viva_based, she, look, like,...</td>\n    </tr>\n    <tr>\n      <th>4</th>\n      <td>1</td>\n      <td>[@ShenikaRoberts:, The, shit, you, hear, about...</td>\n    </tr>\n    <tr>\n      <th>...</th>\n      <td>...</td>\n      <td>...</td>\n    </tr>\n    <tr>\n      <th>24778</th>\n      <td>1</td>\n      <td>[you's, a, muthaf***in, lie, &amp;#8220;@LifeAsKin...</td>\n    </tr>\n    <tr>\n      <th>24779</th>\n      <td>2</td>\n      <td>[you've, gone, and, broke, the, wrong, heart, ...</td>\n    </tr>\n    <tr>\n      <th>24780</th>\n      <td>1</td>\n      <td>[young, buck, wanna, eat!!.., dat, nigguh, lik...</td>\n    </tr>\n    <tr>\n      <th>24781</th>\n      <td>1</td>\n      <td>[youu, got, wild, bitches, tellin, you, lies]</td>\n    </tr>\n    <tr>\n      <th>24782</th>\n      <td>2</td>\n      <td>[~~Ruffled, |, Ntac, Eileen, Dahlia, -, Beauti...</td>\n    </tr>\n  </tbody>\n</table>\n<p>24783 rows × 2 columns</p>\n</div>"
     },
     "metadata": {},
     "execution_count": 10
    }
   ],
   "source": [
    "df"
   ]
  },
  {
   "cell_type": "code",
   "execution_count": null,
   "metadata": {},
   "outputs": [],
   "source": [
    "df['tweet']"
   ]
  }
 ]
}